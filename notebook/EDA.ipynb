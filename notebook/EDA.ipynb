{
 "cells": [
  {
   "cell_type": "code",
   "execution_count": 9,
   "metadata": {},
   "outputs": [],
   "source": [
    "import pandas as pd"
   ]
  },
  {
   "cell_type": "code",
   "execution_count": 10,
   "metadata": {},
   "outputs": [],
   "source": [
    "df=pd.read_csv('D:/Rajyug/Projects/Real Estate Price Prediction/notebook/data/Dubai.csv')"
   ]
  },
  {
   "cell_type": "code",
   "execution_count": 11,
   "metadata": {},
   "outputs": [
    {
     "name": "stdout",
     "output_type": "stream",
     "text": [
      "<class 'pandas.core.frame.DataFrame'>\n",
      "RangeIndex: 44745 entries, 0 to 44744\n",
      "Data columns (total 25 columns):\n",
      " #   Column                   Non-Null Count  Dtype  \n",
      "---  ------                   --------------  -----  \n",
      " 0   Transaction Number       44745 non-null  object \n",
      " 1   Transaction Date         44745 non-null  object \n",
      " 2   Transaction Type         44745 non-null  object \n",
      " 3   Transaction sub type     44745 non-null  object \n",
      " 4   Registration type        44745 non-null  object \n",
      " 5   Is Free Hold?            44745 non-null  object \n",
      " 6   Usage                    44745 non-null  object \n",
      " 7   Area                     44745 non-null  object \n",
      " 8   Property Type            44745 non-null  object \n",
      " 9   Property Sub Type        44745 non-null  object \n",
      " 10  Amount                   44745 non-null  object \n",
      " 11  Transaction Size (sq.m)  44737 non-null  float64\n",
      " 12  Property Size (sq.m)     44745 non-null  float64\n",
      " 13  Room(s)                  44745 non-null  object \n",
      " 14  Bedrooms                 44745 non-null  int64  \n",
      " 15  Parking                  38447 non-null  object \n",
      " 16  Nearest Metro            29596 non-null  object \n",
      " 17  Nearest Mall             29584 non-null  object \n",
      " 18  Nearest Landmark         35288 non-null  object \n",
      " 19  No. of Buyer             44745 non-null  int64  \n",
      " 20  No. of Seller            44745 non-null  int64  \n",
      " 21  Master Project           107 non-null    object \n",
      " 22  Project                  44745 non-null  object \n",
      " 23  Latitude_Project         44745 non-null  float64\n",
      " 24  Longitude_Project        44745 non-null  float64\n",
      "dtypes: float64(4), int64(3), object(18)\n",
      "memory usage: 8.5+ MB\n"
     ]
    }
   ],
   "source": [
    "df.info()"
   ]
  },
  {
   "cell_type": "code",
   "execution_count": 12,
   "metadata": {},
   "outputs": [],
   "source": [
    "df['Amount'] = df['Amount'].str.replace(',', '').astype(float)"
   ]
  },
  {
   "cell_type": "code",
   "execution_count": 13,
   "metadata": {},
   "outputs": [
    {
     "name": "stdout",
     "output_type": "stream",
     "text": [
      "<class 'pandas.core.frame.DataFrame'>\n",
      "RangeIndex: 44745 entries, 0 to 44744\n",
      "Data columns (total 25 columns):\n",
      " #   Column                   Non-Null Count  Dtype  \n",
      "---  ------                   --------------  -----  \n",
      " 0   Transaction Number       44745 non-null  object \n",
      " 1   Transaction Date         44745 non-null  object \n",
      " 2   Transaction Type         44745 non-null  object \n",
      " 3   Transaction sub type     44745 non-null  object \n",
      " 4   Registration type        44745 non-null  object \n",
      " 5   Is Free Hold?            44745 non-null  object \n",
      " 6   Usage                    44745 non-null  object \n",
      " 7   Area                     44745 non-null  object \n",
      " 8   Property Type            44745 non-null  object \n",
      " 9   Property Sub Type        44745 non-null  object \n",
      " 10  Amount                   44745 non-null  float64\n",
      " 11  Transaction Size (sq.m)  44737 non-null  float64\n",
      " 12  Property Size (sq.m)     44745 non-null  float64\n",
      " 13  Room(s)                  44745 non-null  object \n",
      " 14  Bedrooms                 44745 non-null  int64  \n",
      " 15  Parking                  38447 non-null  object \n",
      " 16  Nearest Metro            29596 non-null  object \n",
      " 17  Nearest Mall             29584 non-null  object \n",
      " 18  Nearest Landmark         35288 non-null  object \n",
      " 19  No. of Buyer             44745 non-null  int64  \n",
      " 20  No. of Seller            44745 non-null  int64  \n",
      " 21  Master Project           107 non-null    object \n",
      " 22  Project                  44745 non-null  object \n",
      " 23  Latitude_Project         44745 non-null  float64\n",
      " 24  Longitude_Project        44745 non-null  float64\n",
      "dtypes: float64(5), int64(3), object(17)\n",
      "memory usage: 8.5+ MB\n"
     ]
    }
   ],
   "source": [
    "df.info()"
   ]
  },
  {
   "cell_type": "code",
   "execution_count": 15,
   "metadata": {},
   "outputs": [],
   "source": [
    "df['parking'] = df['Parking'].apply(lambda x: 'Yes' if pd.notna(x) and x.strip() != \"\" else 'No')"
   ]
  },
  {
   "cell_type": "code",
   "execution_count": 16,
   "metadata": {},
   "outputs": [
    {
     "name": "stdout",
     "output_type": "stream",
     "text": [
      "<class 'pandas.core.frame.DataFrame'>\n",
      "RangeIndex: 44745 entries, 0 to 44744\n",
      "Data columns (total 26 columns):\n",
      " #   Column                   Non-Null Count  Dtype  \n",
      "---  ------                   --------------  -----  \n",
      " 0   Transaction Number       44745 non-null  object \n",
      " 1   Transaction Date         44745 non-null  object \n",
      " 2   Transaction Type         44745 non-null  object \n",
      " 3   Transaction sub type     44745 non-null  object \n",
      " 4   Registration type        44745 non-null  object \n",
      " 5   Is Free Hold?            44745 non-null  object \n",
      " 6   Usage                    44745 non-null  object \n",
      " 7   Area                     44745 non-null  object \n",
      " 8   Property Type            44745 non-null  object \n",
      " 9   Property Sub Type        44745 non-null  object \n",
      " 10  Amount                   44745 non-null  float64\n",
      " 11  Transaction Size (sq.m)  44737 non-null  float64\n",
      " 12  Property Size (sq.m)     44745 non-null  float64\n",
      " 13  Room(s)                  44745 non-null  object \n",
      " 14  Bedrooms                 44745 non-null  int64  \n",
      " 15  Parking                  38447 non-null  object \n",
      " 16  Nearest Metro            29596 non-null  object \n",
      " 17  Nearest Mall             29584 non-null  object \n",
      " 18  Nearest Landmark         35288 non-null  object \n",
      " 19  No. of Buyer             44745 non-null  int64  \n",
      " 20  No. of Seller            44745 non-null  int64  \n",
      " 21  Master Project           107 non-null    object \n",
      " 22  Project                  44745 non-null  object \n",
      " 23  Latitude_Project         44745 non-null  float64\n",
      " 24  Longitude_Project        44745 non-null  float64\n",
      " 25  parking                  44745 non-null  object \n",
      "dtypes: float64(5), int64(3), object(18)\n",
      "memory usage: 8.9+ MB\n"
     ]
    }
   ],
   "source": [
    "df.info()"
   ]
  },
  {
   "cell_type": "code",
   "execution_count": 17,
   "metadata": {},
   "outputs": [],
   "source": [
    "df = df.drop(columns=['Transaction Number', 'Transaction Date', 'Transaction sub type', 'Registration type', 'Is Free Hold?', 'Usage', 'Transaction Size (sq.m)', 'Room(s)', 'Parking', 'No. of Buyer', 'No. of Seller', 'Master Project'], axis=1)"
   ]
  },
  {
   "cell_type": "code",
   "execution_count": 20,
   "metadata": {},
   "outputs": [],
   "source": [
    "df.to_csv('data/dubai edited.csv', index=False)"
   ]
  },
  {
   "cell_type": "code",
   "execution_count": 21,
   "metadata": {},
   "outputs": [],
   "source": [
    "df=pd.read_csv('D:/Rajyug/Projects/Real Estate Price Prediction/notebook/data/Dubai edited.csv')"
   ]
  },
  {
   "cell_type": "code",
   "execution_count": 22,
   "metadata": {},
   "outputs": [
    {
     "name": "stdout",
     "output_type": "stream",
     "text": [
      "<class 'pandas.core.frame.DataFrame'>\n",
      "RangeIndex: 44745 entries, 0 to 44744\n",
      "Data columns (total 14 columns):\n",
      " #   Column                Non-Null Count  Dtype  \n",
      "---  ------                --------------  -----  \n",
      " 0   Transaction Type      44745 non-null  object \n",
      " 1   Area                  44745 non-null  object \n",
      " 2   Property Type         44745 non-null  object \n",
      " 3   Property Sub Type     44745 non-null  object \n",
      " 4   Amount                44745 non-null  float64\n",
      " 5   Property Size (sq.m)  44745 non-null  float64\n",
      " 6   Bedrooms              44745 non-null  int64  \n",
      " 7   Nearest Metro         29596 non-null  object \n",
      " 8   Nearest Mall          29584 non-null  object \n",
      " 9   Nearest Landmark      35288 non-null  object \n",
      " 10  Project               44745 non-null  object \n",
      " 11  Latitude_Project      44745 non-null  float64\n",
      " 12  Longitude_Project     44745 non-null  float64\n",
      " 13  parking               44745 non-null  object \n",
      "dtypes: float64(4), int64(1), object(9)\n",
      "memory usage: 4.8+ MB\n"
     ]
    }
   ],
   "source": [
    "df.info()"
   ]
  },
  {
   "cell_type": "code",
   "execution_count": null,
   "metadata": {},
   "outputs": [],
   "source": []
  }
 ],
 "metadata": {
  "kernelspec": {
   "display_name": "venv",
   "language": "python",
   "name": "python3"
  },
  "language_info": {
   "codemirror_mode": {
    "name": "ipython",
    "version": 3
   },
   "file_extension": ".py",
   "mimetype": "text/x-python",
   "name": "python",
   "nbconvert_exporter": "python",
   "pygments_lexer": "ipython3",
   "version": "3.10.0"
  }
 },
 "nbformat": 4,
 "nbformat_minor": 2
}
