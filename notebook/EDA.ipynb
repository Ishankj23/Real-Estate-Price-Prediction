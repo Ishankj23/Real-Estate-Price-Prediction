{
 "cells": [
  {
   "cell_type": "code",
   "execution_count": 41,
   "metadata": {},
   "outputs": [],
   "source": [
    "import pandas as pd"
   ]
  },
  {
   "cell_type": "code",
   "execution_count": 42,
   "metadata": {},
   "outputs": [],
   "source": [
    "df=pd.read_csv('D:/Rajyug/Projects/Real Estate Price Prediction/notebook/data/Dubai.csv')"
   ]
  },
  {
   "cell_type": "code",
   "execution_count": 43,
   "metadata": {},
   "outputs": [
    {
     "name": "stdout",
     "output_type": "stream",
     "text": [
      "<class 'pandas.core.frame.DataFrame'>\n",
      "RangeIndex: 44745 entries, 0 to 44744\n",
      "Data columns (total 25 columns):\n",
      " #   Column                   Non-Null Count  Dtype  \n",
      "---  ------                   --------------  -----  \n",
      " 0   Transaction Number       44745 non-null  object \n",
      " 1   Transaction Date         44745 non-null  object \n",
      " 2   Transaction Type         44745 non-null  object \n",
      " 3   Transaction sub type     44745 non-null  object \n",
      " 4   Registration type        44745 non-null  object \n",
      " 5   Is Free Hold?            44745 non-null  object \n",
      " 6   Usage                    44745 non-null  object \n",
      " 7   Area                     44745 non-null  object \n",
      " 8   Property Type            44745 non-null  object \n",
      " 9   Property Sub Type        44745 non-null  object \n",
      " 10  Amount                   44745 non-null  object \n",
      " 11  Transaction Size (sq.m)  44737 non-null  float64\n",
      " 12  Property Size (sq.m)     44745 non-null  float64\n",
      " 13  Room(s)                  44745 non-null  object \n",
      " 14  Bedrooms                 44745 non-null  int64  \n",
      " 15  Parking                  38447 non-null  object \n",
      " 16  Nearest Metro            29596 non-null  object \n",
      " 17  Nearest Mall             29584 non-null  object \n",
      " 18  Nearest Landmark         35288 non-null  object \n",
      " 19  No. of Buyer             44745 non-null  int64  \n",
      " 20  No. of Seller            44745 non-null  int64  \n",
      " 21  Master Project           107 non-null    object \n",
      " 22  Project                  44745 non-null  object \n",
      " 23  Latitude_Project         44745 non-null  float64\n",
      " 24  Longitude_Project        44745 non-null  float64\n",
      "dtypes: float64(4), int64(3), object(18)\n",
      "memory usage: 8.5+ MB\n"
     ]
    }
   ],
   "source": [
    "df.info()"
   ]
  },
  {
   "cell_type": "code",
   "execution_count": 44,
   "metadata": {},
   "outputs": [],
   "source": [
    "df['Amount'] = df['Amount'].str.replace(',', '').astype(float)"
   ]
  },
  {
   "cell_type": "code",
   "execution_count": 45,
   "metadata": {},
   "outputs": [
    {
     "name": "stdout",
     "output_type": "stream",
     "text": [
      "<class 'pandas.core.frame.DataFrame'>\n",
      "RangeIndex: 44745 entries, 0 to 44744\n",
      "Data columns (total 25 columns):\n",
      " #   Column                   Non-Null Count  Dtype  \n",
      "---  ------                   --------------  -----  \n",
      " 0   Transaction Number       44745 non-null  object \n",
      " 1   Transaction Date         44745 non-null  object \n",
      " 2   Transaction Type         44745 non-null  object \n",
      " 3   Transaction sub type     44745 non-null  object \n",
      " 4   Registration type        44745 non-null  object \n",
      " 5   Is Free Hold?            44745 non-null  object \n",
      " 6   Usage                    44745 non-null  object \n",
      " 7   Area                     44745 non-null  object \n",
      " 8   Property Type            44745 non-null  object \n",
      " 9   Property Sub Type        44745 non-null  object \n",
      " 10  Amount                   44745 non-null  float64\n",
      " 11  Transaction Size (sq.m)  44737 non-null  float64\n",
      " 12  Property Size (sq.m)     44745 non-null  float64\n",
      " 13  Room(s)                  44745 non-null  object \n",
      " 14  Bedrooms                 44745 non-null  int64  \n",
      " 15  Parking                  38447 non-null  object \n",
      " 16  Nearest Metro            29596 non-null  object \n",
      " 17  Nearest Mall             29584 non-null  object \n",
      " 18  Nearest Landmark         35288 non-null  object \n",
      " 19  No. of Buyer             44745 non-null  int64  \n",
      " 20  No. of Seller            44745 non-null  int64  \n",
      " 21  Master Project           107 non-null    object \n",
      " 22  Project                  44745 non-null  object \n",
      " 23  Latitude_Project         44745 non-null  float64\n",
      " 24  Longitude_Project        44745 non-null  float64\n",
      "dtypes: float64(5), int64(3), object(17)\n",
      "memory usage: 8.5+ MB\n"
     ]
    }
   ],
   "source": [
    "df.info()"
   ]
  },
  {
   "cell_type": "code",
   "execution_count": 46,
   "metadata": {},
   "outputs": [],
   "source": [
    "df['parking'] = df['Parking'].apply(lambda x: 'Yes' if pd.notna(x) and x.strip() != \"\" else 'No')"
   ]
  },
  {
   "cell_type": "code",
   "execution_count": 47,
   "metadata": {},
   "outputs": [
    {
     "name": "stdout",
     "output_type": "stream",
     "text": [
      "<class 'pandas.core.frame.DataFrame'>\n",
      "RangeIndex: 44745 entries, 0 to 44744\n",
      "Data columns (total 26 columns):\n",
      " #   Column                   Non-Null Count  Dtype  \n",
      "---  ------                   --------------  -----  \n",
      " 0   Transaction Number       44745 non-null  object \n",
      " 1   Transaction Date         44745 non-null  object \n",
      " 2   Transaction Type         44745 non-null  object \n",
      " 3   Transaction sub type     44745 non-null  object \n",
      " 4   Registration type        44745 non-null  object \n",
      " 5   Is Free Hold?            44745 non-null  object \n",
      " 6   Usage                    44745 non-null  object \n",
      " 7   Area                     44745 non-null  object \n",
      " 8   Property Type            44745 non-null  object \n",
      " 9   Property Sub Type        44745 non-null  object \n",
      " 10  Amount                   44745 non-null  float64\n",
      " 11  Transaction Size (sq.m)  44737 non-null  float64\n",
      " 12  Property Size (sq.m)     44745 non-null  float64\n",
      " 13  Room(s)                  44745 non-null  object \n",
      " 14  Bedrooms                 44745 non-null  int64  \n",
      " 15  Parking                  38447 non-null  object \n",
      " 16  Nearest Metro            29596 non-null  object \n",
      " 17  Nearest Mall             29584 non-null  object \n",
      " 18  Nearest Landmark         35288 non-null  object \n",
      " 19  No. of Buyer             44745 non-null  int64  \n",
      " 20  No. of Seller            44745 non-null  int64  \n",
      " 21  Master Project           107 non-null    object \n",
      " 22  Project                  44745 non-null  object \n",
      " 23  Latitude_Project         44745 non-null  float64\n",
      " 24  Longitude_Project        44745 non-null  float64\n",
      " 25  parking                  44745 non-null  object \n",
      "dtypes: float64(5), int64(3), object(18)\n",
      "memory usage: 8.9+ MB\n"
     ]
    }
   ],
   "source": [
    "df.info()"
   ]
  },
  {
   "cell_type": "code",
   "execution_count": null,
   "metadata": {},
   "outputs": [],
   "source": [
    "df = df.drop(columns=['Transaction Number', 'Transaction Date', 'Transaction sub type', 'Registration type', 'Is Free Hold?', 'Usage', 'Transaction Size (sq.m)', 'Room(s)', 'Parking', 'No. of Buyer', 'No. of Seller', 'Master Project', 'Latitude_Project', 'Longitude_Project', 'Project'], axis=1)"
   ]
  },
  {
   "cell_type": "code",
   "execution_count": 49,
   "metadata": {},
   "outputs": [],
   "source": [
    "df.to_csv('data/dubai edited.csv', index=False)"
   ]
  },
  {
   "cell_type": "code",
   "execution_count": 50,
   "metadata": {},
   "outputs": [],
   "source": [
    "df=pd.read_csv('D:/Rajyug/Projects/Real Estate Price Prediction/notebook/data/Dubai edited.csv')"
   ]
  },
  {
   "cell_type": "code",
   "execution_count": 51,
   "metadata": {},
   "outputs": [
    {
     "name": "stdout",
     "output_type": "stream",
     "text": [
      "<class 'pandas.core.frame.DataFrame'>\n",
      "RangeIndex: 44745 entries, 0 to 44744\n",
      "Data columns (total 12 columns):\n",
      " #   Column                Non-Null Count  Dtype  \n",
      "---  ------                --------------  -----  \n",
      " 0   Transaction Type      44745 non-null  object \n",
      " 1   Area                  44745 non-null  object \n",
      " 2   Property Type         44745 non-null  object \n",
      " 3   Property Sub Type     44745 non-null  object \n",
      " 4   Amount                44745 non-null  float64\n",
      " 5   Property Size (sq.m)  44745 non-null  float64\n",
      " 6   Bedrooms              44745 non-null  int64  \n",
      " 7   Nearest Metro         29596 non-null  object \n",
      " 8   Nearest Mall          29584 non-null  object \n",
      " 9   Nearest Landmark      35288 non-null  object \n",
      " 10  Project               44745 non-null  object \n",
      " 11  parking               44745 non-null  object \n",
      "dtypes: float64(2), int64(1), object(9)\n",
      "memory usage: 4.1+ MB\n"
     ]
    }
   ],
   "source": [
    "df.info()"
   ]
  },
  {
   "cell_type": "code",
   "execution_count": 52,
   "metadata": {},
   "outputs": [],
   "source": [
    "train_df=pd.read_csv('D:/Rajyug/Projects/Real Estate Price Prediction/artifacts/train.csv')\n",
    "test_df=pd.read_csv('D:/Rajyug/Projects/Real Estate Price Prediction/artifacts/train.csv')"
   ]
  },
  {
   "cell_type": "code",
   "execution_count": 53,
   "metadata": {},
   "outputs": [],
   "source": [
    "target_column_name=\"Amount\""
   ]
  },
  {
   "cell_type": "code",
   "execution_count": 54,
   "metadata": {},
   "outputs": [],
   "source": [
    "input_feature_train_df=train_df.drop(columns=[target_column_name],axis=1)\n",
    "target_feature_train_df=train_df[target_column_name]"
   ]
  },
  {
   "cell_type": "code",
   "execution_count": 55,
   "metadata": {},
   "outputs": [],
   "source": [
    "input_feature_test_df=test_df.drop(columns=[target_column_name],axis=1)\n",
    "target_feature_test_df=test_df[target_column_name]"
   ]
  },
  {
   "cell_type": "code",
   "execution_count": 20,
   "metadata": {},
   "outputs": [],
   "source": [
    "import sys\n",
    "from dataclasses import dataclass\n",
    "\n",
    "import numpy as np \n",
    "import pandas as pd\n",
    "from sklearn.compose import ColumnTransformer\n",
    "from sklearn.impute import SimpleImputer\n",
    "from sklearn.pipeline import Pipeline\n",
    "from sklearn.preprocessing import OneHotEncoder,StandardScaler\n",
    "\n",
    "from src.exception import CustomException\n",
    "from src.logger import logging\n",
    "import os\n",
    "\n",
    "from src.utils import save_object"
   ]
  },
  {
   "cell_type": "code",
   "execution_count": null,
   "metadata": {},
   "outputs": [],
   "source": [
    "def get_data_transformer_object(self):\n",
    "        '''\n",
    "        This function is responsible for data trnasformation\n",
    "        \n",
    "        '''\n",
    "        try:\n",
    "            numerical_columns = [\"Property Size (sq.m)\", \"Bedrooms\", \"Latitude_Project\", \"Longitude_Project\"]\n",
    "            categorical_columns = [\n",
    "                \"Transaction Type\",\n",
    "                \"Area\",\n",
    "                \"Property Type\",\n",
    "                \"Property Sub Type\",\n",
    "                \"Nearest Metro\",\n",
    "                \"Nearest Mall\",\n",
    "                \"Nearest Landmark\",\n",
    "                \"Project\",\n",
    "                \"parking\"\n",
    "            ]\n",
    "\n",
    "            num_pipeline= Pipeline(\n",
    "                steps=[\n",
    "                (\"imputer\",SimpleImputer(strategy=\"median\")),\n",
    "                (\"scaler\",StandardScaler())\n",
    "\n",
    "                ]\n",
    "            )\n",
    "\n",
    "            cat_pipeline=Pipeline(\n",
    "\n",
    "                steps=[\n",
    "                (\"imputer\",SimpleImputer(strategy=\"most_frequent\")),\n",
    "                (\"one_hot_encoder\",OneHotEncoder(handle_unknown=\"ignore\"))]\n",
    "\n",
    "            )\n",
    "\n",
    "            logging.info(f\"Categorical columns: {categorical_columns}\")\n",
    "            logging.info(f\"Numerical columns: {numerical_columns}\")\n",
    "\n",
    "            preprocessor=ColumnTransformer(\n",
    "                [\n",
    "                (\"num_pipeline\",num_pipeline,numerical_columns),\n",
    "                (\"cat_pipeline\",cat_pipeline,categorical_columns)\n",
    "\n",
    "                ]\n",
    "\n",
    "\n",
    "            )\n",
    "\n",
    "            return preprocessor\n",
    "        \n",
    "        except Exception as e:\n",
    "            raise CustomException(e,sys)"
   ]
  },
  {
   "cell_type": "code",
   "execution_count": null,
   "metadata": {},
   "outputs": [],
   "source": []
  },
  {
   "cell_type": "code",
   "execution_count": 32,
   "metadata": {},
   "outputs": [],
   "source": [
    "from src.components.data_transformation import DataTransformation\n",
    "from src.components.data_transformation import DataTransformationConfig"
   ]
  },
  {
   "cell_type": "code",
   "execution_count": null,
   "metadata": {},
   "outputs": [],
   "source": [
    "train"
   ]
  },
  {
   "cell_type": "code",
   "execution_count": 35,
   "metadata": {},
   "outputs": [
    {
     "ename": "NameError",
     "evalue": "name 'input_feature_train_arr' is not defined",
     "output_type": "error",
     "traceback": [
      "\u001b[1;31m---------------------------------------------------------------------------\u001b[0m",
      "\u001b[1;31mNameError\u001b[0m                                 Traceback (most recent call last)",
      "Cell \u001b[1;32mIn[35], line 1\u001b[0m\n\u001b[1;32m----> 1\u001b[0m train_arr \u001b[38;5;241m=\u001b[39m np\u001b[38;5;241m.\u001b[39mc_[\u001b[43minput_feature_train_arr\u001b[49m, np\u001b[38;5;241m.\u001b[39marray(target_feature_train_df)]\n\u001b[0;32m      2\u001b[0m test_arr \u001b[38;5;241m=\u001b[39m np\u001b[38;5;241m.\u001b[39mc_[input_feature_test_arr, np\u001b[38;5;241m.\u001b[39marray(target_feature_test_df)]\n",
      "\u001b[1;31mNameError\u001b[0m: name 'input_feature_train_arr' is not defined"
     ]
    }
   ],
   "source": [
    "train_arr = np.c_[input_feature_train_arr, np.array(target_feature_train_df)]\n",
    "test_arr = np.c_[input_feature_test_arr, np.array(target_feature_test_df)]"
   ]
  },
  {
   "cell_type": "code",
   "execution_count": 40,
   "metadata": {},
   "outputs": [
    {
     "name": "stdout",
     "output_type": "stream",
     "text": [
      "1.26.4\n"
     ]
    }
   ],
   "source": [
    "import numpy as np\n",
    "print(np.__version__)"
   ]
  },
  {
   "cell_type": "code",
   "execution_count": null,
   "metadata": {},
   "outputs": [],
   "source": []
  }
 ],
 "metadata": {
  "kernelspec": {
   "display_name": "venv",
   "language": "python",
   "name": "python3"
  },
  "language_info": {
   "codemirror_mode": {
    "name": "ipython",
    "version": 3
   },
   "file_extension": ".py",
   "mimetype": "text/x-python",
   "name": "python",
   "nbconvert_exporter": "python",
   "pygments_lexer": "ipython3",
   "version": "3.10.0"
  }
 },
 "nbformat": 4,
 "nbformat_minor": 2
}
